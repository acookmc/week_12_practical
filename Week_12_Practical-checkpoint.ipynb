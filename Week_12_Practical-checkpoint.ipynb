{
 "cells": [
  {
   "cell_type": "code",
   "execution_count": 11,
   "id": "ef9672de",
   "metadata": {},
   "outputs": [
    {
     "name": "stderr",
     "output_type": "stream",
     "text": [
      "Warning message:\n",
      "\"package 'leaps' was built under R version 3.6.3\""
     ]
    }
   ],
   "source": [
    "# write your code here\n",
    "library(ggplot2)\n",
    "library(tidyverse)\n",
    "library(leaps)"
   ]
  },
  {
   "cell_type": "markdown",
   "id": "13d131c9",
   "metadata": {},
   "source": [
    "### Question 1\n",
    "\n",
    "* Use the approach described in Chapter 6.5.1 of Introduction to Statistical Learning to select the best subset of explanatory variables to predict richness in the RIKZ dataset\n",
    "  * The apparoch in shoud use cross-validation\n",
    "  * You do not need to include interaction, "
   ]
  },
  {
   "cell_type": "markdown",
   "id": "759180a7",
   "metadata": {},
   "source": [
    "By: Aimee Cook, Sophia Rahnke, and Kat Grellman"
   ]
  },
  {
   "cell_type": "code",
   "execution_count": 8,
   "id": "aa042a04",
   "metadata": {
    "scrolled": true
   },
   "outputs": [
    {
     "data": {
      "text/html": [
       "'C:/Users/Aimee/Documents/GitHub/New_MBIO612-F2021/week_8/data'"
      ],
      "text/latex": [
       "'C:/Users/Aimee/Documents/GitHub/New\\_MBIO612-F2021/week\\_8/data'"
      ],
      "text/markdown": [
       "'C:/Users/Aimee/Documents/GitHub/New_MBIO612-F2021/week_8/data'"
      ],
      "text/plain": [
       "[1] \"C:/Users/Aimee/Documents/GitHub/New_MBIO612-F2021/week_8/data\""
      ]
     },
     "metadata": {},
     "output_type": "display_data"
    }
   ],
   "source": [
    "# Import data from storage\n",
    "setwd(\"C:\\\\Users\\\\Aimee\\\\Documents\\\\GitHub\\\\New_MBIO612-F2021\\\\week_8\\\\data\")\n",
    "getwd()\n",
    "survey_data <- read.csv(\"RIKZ.txt\", sep=\"\\t\", header=TRUE)"
   ]
  },
  {
   "cell_type": "code",
   "execution_count": 9,
   "id": "f3b6ecd2",
   "metadata": {},
   "outputs": [],
   "source": [
    "# Create richness column and trim data set to include only the parameters we wish to explore\n",
    "species_cols = 2:76\n",
    "counts = apply(survey_data[, species_cols] > 0, 1, sum)\n",
    "survey_data[\"richness\"] = counts"
   ]
  },
  {
   "cell_type": "code",
   "execution_count": 10,
   "id": "e3bf432d",
   "metadata": {
    "scrolled": true
   },
   "outputs": [
    {
     "data": {
      "text/html": [
       "<table>\n",
       "<thead><tr><th scope=col>Sample</th><th scope=col>week</th><th scope=col>angle1</th><th scope=col>angle2</th><th scope=col>exposure</th><th scope=col>salinity</th><th scope=col>temperature</th><th scope=col>NAP</th><th scope=col>penetrability</th><th scope=col>grainsize</th><th scope=col>humus</th><th scope=col>chalk</th><th scope=col>sorting1</th><th scope=col>Beach</th><th scope=col>richness</th></tr></thead>\n",
       "<tbody>\n",
       "\t<tr><td>1     </td><td>1     </td><td>32    </td><td>96    </td><td>10    </td><td>29.4  </td><td>17.5  </td><td> 0.045</td><td>253.9 </td><td>222.5 </td><td>0.05  </td><td>2.05  </td><td>69.83 </td><td>1     </td><td>11    </td></tr>\n",
       "\t<tr><td>2     </td><td>1     </td><td>62    </td><td>96    </td><td>10    </td><td>29.4  </td><td>17.5  </td><td>-1.036</td><td>226.9 </td><td>200.0 </td><td>0.30  </td><td>2.50  </td><td>59.00 </td><td>1     </td><td>10    </td></tr>\n",
       "</tbody>\n",
       "</table>\n"
      ],
      "text/latex": [
       "\\begin{tabular}{r|lllllllllllllll}\n",
       " Sample & week & angle1 & angle2 & exposure & salinity & temperature & NAP & penetrability & grainsize & humus & chalk & sorting1 & Beach & richness\\\\\n",
       "\\hline\n",
       "\t 1      & 1      & 32     & 96     & 10     & 29.4   & 17.5   &  0.045 & 253.9  & 222.5  & 0.05   & 2.05   & 69.83  & 1      & 11    \\\\\n",
       "\t 2      & 1      & 62     & 96     & 10     & 29.4   & 17.5   & -1.036 & 226.9  & 200.0  & 0.30   & 2.50   & 59.00  & 1      & 10    \\\\\n",
       "\\end{tabular}\n"
      ],
      "text/markdown": [
       "\n",
       "| Sample | week | angle1 | angle2 | exposure | salinity | temperature | NAP | penetrability | grainsize | humus | chalk | sorting1 | Beach | richness |\n",
       "|---|---|---|---|---|---|---|---|---|---|---|---|---|---|---|\n",
       "| 1      | 1      | 32     | 96     | 10     | 29.4   | 17.5   |  0.045 | 253.9  | 222.5  | 0.05   | 2.05   | 69.83  | 1      | 11     |\n",
       "| 2      | 1      | 62     | 96     | 10     | 29.4   | 17.5   | -1.036 | 226.9  | 200.0  | 0.30   | 2.50   | 59.00  | 1      | 10     |\n",
       "\n"
      ],
      "text/plain": [
       "  Sample week angle1 angle2 exposure salinity temperature NAP    penetrability\n",
       "1 1      1    32     96     10       29.4     17.5         0.045 253.9        \n",
       "2 2      1    62     96     10       29.4     17.5        -1.036 226.9        \n",
       "  grainsize humus chalk sorting1 Beach richness\n",
       "1 222.5     0.05  2.05  69.83    1     11      \n",
       "2 200.0     0.30  2.50  59.00    1     10      "
      ]
     },
     "metadata": {},
     "output_type": "display_data"
    }
   ],
   "source": [
    "survey_data_richness = survey_data[,-species_cols]\n",
    "head(survey_data_richness, n=2)"
   ]
  },
  {
   "cell_type": "code",
   "execution_count": 15,
   "id": "1be98c66",
   "metadata": {
    "scrolled": true
   },
   "outputs": [
    {
     "data": {
      "text/plain": [
       "Subset selection object\n",
       "Call: regsubsets.formula(richness ~ ., survey_data_richness)\n",
       "14 Variables  (and intercept)\n",
       "              Forced in Forced out\n",
       "Sample            FALSE      FALSE\n",
       "week              FALSE      FALSE\n",
       "angle1            FALSE      FALSE\n",
       "angle2            FALSE      FALSE\n",
       "exposure          FALSE      FALSE\n",
       "salinity          FALSE      FALSE\n",
       "temperature       FALSE      FALSE\n",
       "NAP               FALSE      FALSE\n",
       "penetrability     FALSE      FALSE\n",
       "grainsize         FALSE      FALSE\n",
       "humus             FALSE      FALSE\n",
       "chalk             FALSE      FALSE\n",
       "sorting1          FALSE      FALSE\n",
       "Beach             FALSE      FALSE\n",
       "1 subsets of each size up to 8\n",
       "Selection Algorithm: exhaustive\n",
       "         Sample week angle1 angle2 exposure salinity temperature NAP\n",
       "1  ( 1 ) \" \"    \" \"  \" \"    \" \"    \"*\"      \" \"      \" \"         \" \"\n",
       "2  ( 1 ) \" \"    \" \"  \" \"    \" \"    \"*\"      \" \"      \" \"         \"*\"\n",
       "3  ( 1 ) \" \"    \" \"  \" \"    \" \"    \"*\"      \"*\"      \" \"         \"*\"\n",
       "4  ( 1 ) \" \"    \" \"  \" \"    \" \"    \"*\"      \"*\"      \" \"         \"*\"\n",
       "5  ( 1 ) \"*\"    \" \"  \" \"    \" \"    \" \"      \" \"      \"*\"         \"*\"\n",
       "6  ( 1 ) \"*\"    \" \"  \" \"    \"*\"    \" \"      \" \"      \"*\"         \"*\"\n",
       "7  ( 1 ) \"*\"    \" \"  \"*\"    \"*\"    \" \"      \" \"      \"*\"         \"*\"\n",
       "8  ( 1 ) \"*\"    \" \"  \"*\"    \"*\"    \" \"      \" \"      \"*\"         \"*\"\n",
       "         penetrability grainsize humus chalk sorting1 Beach\n",
       "1  ( 1 ) \" \"           \" \"       \" \"   \" \"   \" \"      \" \"  \n",
       "2  ( 1 ) \" \"           \" \"       \" \"   \" \"   \" \"      \" \"  \n",
       "3  ( 1 ) \" \"           \" \"       \" \"   \" \"   \" \"      \" \"  \n",
       "4  ( 1 ) \" \"           \" \"       \" \"   \"*\"   \" \"      \" \"  \n",
       "5  ( 1 ) \" \"           \" \"       \" \"   \"*\"   \"*\"      \" \"  \n",
       "6  ( 1 ) \" \"           \" \"       \" \"   \"*\"   \"*\"      \" \"  \n",
       "7  ( 1 ) \"*\"           \" \"       \" \"   \"*\"   \" \"      \" \"  \n",
       "8  ( 1 ) \"*\"           \" \"       \" \"   \"*\"   \"*\"      \" \"  "
      ]
     },
     "metadata": {},
     "output_type": "display_data"
    }
   ],
   "source": [
    "# Perform best subset selection to identify best model with given number of predictors\n",
    "# quantified using RSS\n",
    "regfit.full <- regsubsets (richness~., survey_data_richness)\n",
    "summary(regfit.full)"
   ]
  },
  {
   "cell_type": "code",
   "execution_count": 23,
   "id": "a7866599",
   "metadata": {},
   "outputs": [
    {
     "data": {
      "text/plain": [
       "Subset selection object\n",
       "Call: regsubsets.formula(richness ~ ., survey_data_richness, nvmax = 15)\n",
       "14 Variables  (and intercept)\n",
       "              Forced in Forced out\n",
       "Sample            FALSE      FALSE\n",
       "week              FALSE      FALSE\n",
       "angle1            FALSE      FALSE\n",
       "angle2            FALSE      FALSE\n",
       "exposure          FALSE      FALSE\n",
       "salinity          FALSE      FALSE\n",
       "temperature       FALSE      FALSE\n",
       "NAP               FALSE      FALSE\n",
       "penetrability     FALSE      FALSE\n",
       "grainsize         FALSE      FALSE\n",
       "humus             FALSE      FALSE\n",
       "chalk             FALSE      FALSE\n",
       "sorting1          FALSE      FALSE\n",
       "Beach             FALSE      FALSE\n",
       "1 subsets of each size up to 14\n",
       "Selection Algorithm: exhaustive\n",
       "          Sample week angle1 angle2 exposure salinity temperature NAP\n",
       "1  ( 1 )  \" \"    \" \"  \" \"    \" \"    \"*\"      \" \"      \" \"         \" \"\n",
       "2  ( 1 )  \" \"    \" \"  \" \"    \" \"    \"*\"      \" \"      \" \"         \"*\"\n",
       "3  ( 1 )  \" \"    \" \"  \" \"    \" \"    \"*\"      \"*\"      \" \"         \"*\"\n",
       "4  ( 1 )  \" \"    \" \"  \" \"    \" \"    \"*\"      \"*\"      \" \"         \"*\"\n",
       "5  ( 1 )  \"*\"    \" \"  \" \"    \" \"    \" \"      \" \"      \"*\"         \"*\"\n",
       "6  ( 1 )  \"*\"    \" \"  \" \"    \"*\"    \" \"      \" \"      \"*\"         \"*\"\n",
       "7  ( 1 )  \"*\"    \" \"  \"*\"    \"*\"    \" \"      \" \"      \"*\"         \"*\"\n",
       "8  ( 1 )  \"*\"    \" \"  \"*\"    \"*\"    \" \"      \" \"      \"*\"         \"*\"\n",
       "9  ( 1 )  \"*\"    \"*\"  \"*\"    \"*\"    \" \"      \" \"      \"*\"         \"*\"\n",
       "10  ( 1 ) \"*\"    \"*\"  \"*\"    \"*\"    \"*\"      \" \"      \"*\"         \"*\"\n",
       "11  ( 1 ) \"*\"    \"*\"  \"*\"    \"*\"    \"*\"      \" \"      \"*\"         \"*\"\n",
       "12  ( 1 ) \"*\"    \"*\"  \"*\"    \"*\"    \"*\"      \" \"      \"*\"         \"*\"\n",
       "13  ( 1 ) \"*\"    \"*\"  \"*\"    \"*\"    \"*\"      \" \"      \"*\"         \"*\"\n",
       "14  ( 1 ) \"*\"    \"*\"  \"*\"    \"*\"    \"*\"      \"*\"      \"*\"         \"*\"\n",
       "          penetrability grainsize humus chalk sorting1 Beach\n",
       "1  ( 1 )  \" \"           \" \"       \" \"   \" \"   \" \"      \" \"  \n",
       "2  ( 1 )  \" \"           \" \"       \" \"   \" \"   \" \"      \" \"  \n",
       "3  ( 1 )  \" \"           \" \"       \" \"   \" \"   \" \"      \" \"  \n",
       "4  ( 1 )  \" \"           \" \"       \" \"   \"*\"   \" \"      \" \"  \n",
       "5  ( 1 )  \" \"           \" \"       \" \"   \"*\"   \"*\"      \" \"  \n",
       "6  ( 1 )  \" \"           \" \"       \" \"   \"*\"   \"*\"      \" \"  \n",
       "7  ( 1 )  \"*\"           \" \"       \" \"   \"*\"   \" \"      \" \"  \n",
       "8  ( 1 )  \"*\"           \" \"       \" \"   \"*\"   \"*\"      \" \"  \n",
       "9  ( 1 )  \"*\"           \"*\"       \" \"   \"*\"   \" \"      \" \"  \n",
       "10  ( 1 ) \"*\"           \"*\"       \" \"   \"*\"   \" \"      \" \"  \n",
       "11  ( 1 ) \"*\"           \"*\"       \"*\"   \"*\"   \" \"      \" \"  \n",
       "12  ( 1 ) \"*\"           \"*\"       \"*\"   \"*\"   \"*\"      \" \"  \n",
       "13  ( 1 ) \"*\"           \"*\"       \"*\"   \"*\"   \"*\"      \"*\"  \n",
       "14  ( 1 ) \"*\"           \"*\"       \"*\"   \"*\"   \"*\"      \"*\"  "
      ]
     },
     "metadata": {},
     "output_type": "display_data"
    }
   ],
   "source": [
    "# Here we fit up to a 15-variable model based on the variables found in previous step\n",
    "regfit.full2 <- regsubsets (richness~., survey_data_richness, nvmax=15)\n",
    "reg.summary <- summary(regfit.full2)\n",
    "summary(regfit.full2)"
   ]
  },
  {
   "cell_type": "code",
   "execution_count": 24,
   "id": "dfc85782",
   "metadata": {
    "scrolled": true
   },
   "outputs": [
    {
     "data": {
      "text/html": [
       "<ol class=list-inline>\n",
       "\t<li>0.3396289326236</li>\n",
       "\t<li>0.632133281678797</li>\n",
       "\t<li>0.679264804838038</li>\n",
       "\t<li>0.687536608478148</li>\n",
       "\t<li>0.690685335253641</li>\n",
       "\t<li>0.705856340765908</li>\n",
       "\t<li>0.711360966461287</li>\n",
       "\t<li>0.717250979670993</li>\n",
       "\t<li>0.724206058412779</li>\n",
       "\t<li>0.724527465901835</li>\n",
       "\t<li>0.724677297527205</li>\n",
       "\t<li>0.724762104982056</li>\n",
       "\t<li>0.72477387358753</li>\n",
       "\t<li>0.724781757890596</li>\n",
       "</ol>\n"
      ],
      "text/latex": [
       "\\begin{enumerate*}\n",
       "\\item 0.3396289326236\n",
       "\\item 0.632133281678797\n",
       "\\item 0.679264804838038\n",
       "\\item 0.687536608478148\n",
       "\\item 0.690685335253641\n",
       "\\item 0.705856340765908\n",
       "\\item 0.711360966461287\n",
       "\\item 0.717250979670993\n",
       "\\item 0.724206058412779\n",
       "\\item 0.724527465901835\n",
       "\\item 0.724677297527205\n",
       "\\item 0.724762104982056\n",
       "\\item 0.72477387358753\n",
       "\\item 0.724781757890596\n",
       "\\end{enumerate*}\n"
      ],
      "text/markdown": [
       "1. 0.3396289326236\n",
       "2. 0.632133281678797\n",
       "3. 0.679264804838038\n",
       "4. 0.687536608478148\n",
       "5. 0.690685335253641\n",
       "6. 0.705856340765908\n",
       "7. 0.711360966461287\n",
       "8. 0.717250979670993\n",
       "9. 0.724206058412779\n",
       "10. 0.724527465901835\n",
       "11. 0.724677297527205\n",
       "12. 0.724762104982056\n",
       "13. 0.72477387358753\n",
       "14. 0.724781757890596\n",
       "\n",
       "\n"
      ],
      "text/plain": [
       " [1] 0.3396289 0.6321333 0.6792648 0.6875366 0.6906853 0.7058563 0.7113610\n",
       " [8] 0.7172510 0.7242061 0.7245275 0.7246773 0.7247621 0.7247739 0.7247818"
      ]
     },
     "metadata": {},
     "output_type": "display_data"
    }
   ],
   "source": [
    "# This returns the R^squared, RSS, adjusted R^squared, C_p and BIC values and we can use this to evaluate the best model\n",
    "reg.summary$rsq"
   ]
  },
  {
   "cell_type": "code",
   "execution_count": 33,
   "id": "588787aa",
   "metadata": {},
   "outputs": [
    {
     "data": {
      "image/png": "[encoded data removed]",
      "text/plain": [
       "plot without title"
      ]
     },
     "metadata": {},
     "output_type": "display_data"
    },
    {
     "data": {
      "text/html": [
       "6"
      ],
      "text/latex": [
       "6"
      ],
      "text/markdown": [
       "6"
      ],
      "text/plain": [
       "[1] 6"
      ]
     },
     "metadata": {},
     "output_type": "display_data"
    },
    {
     "data": {
      "image/png": "[encoded data removed]",
      "text/plain": [
       "plot without title"
      ]
     },
     "metadata": {},
     "output_type": "display_data"
    }
   ],
   "source": [
    "plot(reg.summary$rss , xlab = \" Number of Variables \", ylab = \" RSS \", type = \"l\")\n",
    "\n",
    "plot(reg.summary$adjr2 , xlab = \" Number of Variables \", ylab = \" Adjusted RSq \", type = \"l\")\n",
    "\n",
    "# which.max used to identify the location of the maximumm point vector.\n",
    "# Red dot indicates the model with the largest adjusted R^squared statistic\n",
    "\n",
    "which.max (reg.summary$adjr2)\n",
    "points (6, reg.summary$adjr2[6], col = \" red \", cex = 2, pch = 20)"
   ]
  },
  {
   "cell_type": "code",
   "execution_count": 39,
   "id": "3fa2061d",
   "metadata": {},
   "outputs": [
    {
     "data": {
      "text/html": [
       "3"
      ],
      "text/latex": [
       "3"
      ],
      "text/markdown": [
       "3"
      ],
      "text/plain": [
       "[1] 3"
      ]
     },
     "metadata": {},
     "output_type": "display_data"
    },
    {
     "data": {
      "text/html": [
       "3"
      ],
      "text/latex": [
       "3"
      ],
      "text/markdown": [
       "3"
      ],
      "text/plain": [
       "[1] 3"
      ]
     },
     "metadata": {},
     "output_type": "display_data"
    },
    {
     "data": {
      "image/png": "[encoded data removed]",
      "text/plain": [
       "plot without title"
      ]
     },
     "metadata": {},
     "output_type": "display_data"
    },
    {
     "data": {
      "image/png": "[encoded data removed]",
      "text/plain": [
       "plot without title"
      ]
     },
     "metadata": {},
     "output_type": "display_data"
    }
   ],
   "source": [
    "# plotting the C_p and BIC statistic and indicating the models with the smallest statistic\n",
    "plot (reg.summary$cp, xlab = \" Number of Variables \",\n",
    "ylab = \"Cp\", type = \"l\")\n",
    "which.min (reg.summary$cp)\n",
    "\n",
    "points (3, reg.summary$cp[3], col = \" red \", cex = 2,\n",
    "pch = 20)\n",
    "which.min (reg.summary$bic)\n",
    "\n",
    "plot (reg.summary$bic , xlab = \" Number of Variables \",\n",
    "ylab = \" BIC \", type = \"l\")\n",
    "\n",
    "points (3, reg.summary$bic[3], col = \" red \", cex = 2,\n",
    "pch = 20)"
   ]
  },
  {
   "cell_type": "code",
   "execution_count": 44,
   "id": "41b01c5d",
   "metadata": {
    "scrolled": false
   },
   "outputs": [
    {
     "data": {
      "image/png": "[encoded data removed]",
      "text/plain": [
       "plot without title"
      ]
     },
     "metadata": {},
     "output_type": "display_data"
    },
    {
     "data": {
      "image/png": "[encoded data removed]",
      "text/plain": [
       "plot without title"
      ]
     },
     "metadata": {},
     "output_type": "display_data"
    },
    {
     "data": {
      "image/png": "[encoded data removed]",
      "text/plain": [
       "plot without title"
      ]
     },
     "metadata": {},
     "output_type": "display_data"
    },
    {
     "data": {
      "image/png": "[encoded data removed]",
      "text/plain": [
       "plot without title"
      ]
     },
     "metadata": {},
     "output_type": "display_data"
    }
   ],
   "source": [
    "plot(regfit.full , scale = \"r2\")\n",
    "plot(regfit.full , scale = \"adjr2\")\n",
    "plot(regfit.full , scale = \"Cp\")\n",
    "plot(regfit.full , scale = \"bic\")"
   ]
  },
  {
   "cell_type": "code",
   "execution_count": 45,
   "id": "821984f6",
   "metadata": {},
   "outputs": [
    {
     "data": {
      "text/html": [
       "<dl class=dl-horizontal>\n",
       "\t<dt>(Intercept)</dt>\n",
       "\t\t<dd>0.574551032039892</dd>\n",
       "\t<dt>exposure</dt>\n",
       "\t\t<dd>-2.32010108737827</dd>\n",
       "\t<dt>salinity</dt>\n",
       "\t\t<dd>1.05803456179574</dd>\n",
       "\t<dt>NAP</dt>\n",
       "\t\t<dd>-2.58807360593783</dd>\n",
       "</dl>\n"
      ],
      "text/latex": [
       "\\begin{description*}\n",
       "\\item[(Intercept)] 0.574551032039892\n",
       "\\item[exposure] -2.32010108737827\n",
       "\\item[salinity] 1.05803456179574\n",
       "\\item[NAP] -2.58807360593783\n",
       "\\end{description*}\n"
      ],
      "text/markdown": [
       "(Intercept)\n",
       ":   0.574551032039892exposure\n",
       ":   -2.32010108737827salinity\n",
       ":   1.05803456179574NAP\n",
       ":   -2.58807360593783\n",
       "\n"
      ],
      "text/plain": [
       "(Intercept)    exposure    salinity         NAP \n",
       "   0.574551   -2.320101    1.058035   -2.588074 "
      ]
     },
     "metadata": {},
     "output_type": "display_data"
    }
   ],
   "source": [
    "# 3 is the minimum value found using which.min for the C_p and BIC statistics\n",
    "coef (regfit.full , 3)"
   ]
  },
  {
   "cell_type": "code",
   "execution_count": 46,
   "id": "4bf55734",
   "metadata": {},
   "outputs": [],
   "source": [
    "#Exposure, salinity, and NAP appear to be the best variables to subset our data by."
   ]
  },
  {
   "cell_type": "markdown",
   "id": "7a9e629d",
   "metadata": {},
   "source": [
    "### Using forward and backward stepwise selection"
   ]
  },
  {
   "cell_type": "code",
   "execution_count": 49,
   "id": "44efe03c",
   "metadata": {
    "scrolled": true
   },
   "outputs": [
    {
     "data": {
      "text/plain": [
       "Subset selection object\n",
       "Call: regsubsets.formula(richness ~ ., data = survey_data_richness, \n",
       "    nvmax = 15, method = \"forward\")\n",
       "14 Variables  (and intercept)\n",
       "              Forced in Forced out\n",
       "Sample            FALSE      FALSE\n",
       "week              FALSE      FALSE\n",
       "angle1            FALSE      FALSE\n",
       "angle2            FALSE      FALSE\n",
       "exposure          FALSE      FALSE\n",
       "salinity          FALSE      FALSE\n",
       "temperature       FALSE      FALSE\n",
       "NAP               FALSE      FALSE\n",
       "penetrability     FALSE      FALSE\n",
       "grainsize         FALSE      FALSE\n",
       "humus             FALSE      FALSE\n",
       "chalk             FALSE      FALSE\n",
       "sorting1          FALSE      FALSE\n",
       "Beach             FALSE      FALSE\n",
       "1 subsets of each size up to 14\n",
       "Selection Algorithm: forward\n",
       "          Sample week angle1 angle2 exposure salinity temperature NAP\n",
       "1  ( 1 )  \" \"    \" \"  \" \"    \" \"    \"*\"      \" \"      \" \"         \" \"\n",
       "2  ( 1 )  \" \"    \" \"  \" \"    \" \"    \"*\"      \" \"      \" \"         \"*\"\n",
       "3  ( 1 )  \" \"    \" \"  \" \"    \" \"    \"*\"      \"*\"      \" \"         \"*\"\n",
       "4  ( 1 )  \" \"    \" \"  \" \"    \" \"    \"*\"      \"*\"      \" \"         \"*\"\n",
       "5  ( 1 )  \" \"    \" \"  \" \"    \" \"    \"*\"      \"*\"      \" \"         \"*\"\n",
       "6  ( 1 )  \" \"    \" \"  \" \"    \"*\"    \"*\"      \"*\"      \" \"         \"*\"\n",
       "7  ( 1 )  \" \"    \" \"  \"*\"    \"*\"    \"*\"      \"*\"      \" \"         \"*\"\n",
       "8  ( 1 )  \" \"    \" \"  \"*\"    \"*\"    \"*\"      \"*\"      \" \"         \"*\"\n",
       "9  ( 1 )  \" \"    \" \"  \"*\"    \"*\"    \"*\"      \"*\"      \"*\"         \"*\"\n",
       "10  ( 1 ) \" \"    \" \"  \"*\"    \"*\"    \"*\"      \"*\"      \"*\"         \"*\"\n",
       "11  ( 1 ) \"*\"    \" \"  \"*\"    \"*\"    \"*\"      \"*\"      \"*\"         \"*\"\n",
       "12  ( 1 ) \"*\"    \"*\"  \"*\"    \"*\"    \"*\"      \"*\"      \"*\"         \"*\"\n",
       "13  ( 1 ) \"*\"    \"*\"  \"*\"    \"*\"    \"*\"      \"*\"      \"*\"         \"*\"\n",
       "14  ( 1 ) \"*\"    \"*\"  \"*\"    \"*\"    \"*\"      \"*\"      \"*\"         \"*\"\n",
       "          penetrability grainsize humus chalk sorting1 Beach\n",
       "1  ( 1 )  \" \"           \" \"       \" \"   \" \"   \" \"      \" \"  \n",
       "2  ( 1 )  \" \"           \" \"       \" \"   \" \"   \" \"      \" \"  \n",
       "3  ( 1 )  \" \"           \" \"       \" \"   \" \"   \" \"      \" \"  \n",
       "4  ( 1 )  \" \"           \" \"       \" \"   \"*\"   \" \"      \" \"  \n",
       "5  ( 1 )  \" \"           \" \"       \" \"   \"*\"   \"*\"      \" \"  \n",
       "6  ( 1 )  \" \"           \" \"       \" \"   \"*\"   \"*\"      \" \"  \n",
       "7  ( 1 )  \" \"           \" \"       \" \"   \"*\"   \"*\"      \" \"  \n",
       "8  ( 1 )  \"*\"           \" \"       \" \"   \"*\"   \"*\"      \" \"  \n",
       "9  ( 1 )  \"*\"           \" \"       \" \"   \"*\"   \"*\"      \" \"  \n",
       "10  ( 1 ) \"*\"           \"*\"       \" \"   \"*\"   \"*\"      \" \"  \n",
       "11  ( 1 ) \"*\"           \"*\"       \" \"   \"*\"   \"*\"      \" \"  \n",
       "12  ( 1 ) \"*\"           \"*\"       \" \"   \"*\"   \"*\"      \" \"  \n",
       "13  ( 1 ) \"*\"           \"*\"       \"*\"   \"*\"   \"*\"      \" \"  \n",
       "14  ( 1 ) \"*\"           \"*\"       \"*\"   \"*\"   \"*\"      \"*\"  "
      ]
     },
     "metadata": {},
     "output_type": "display_data"
    },
    {
     "data": {
      "text/plain": [
       "Subset selection object\n",
       "Call: regsubsets.formula(richness ~ ., data = survey_data_richness, \n",
       "    nvmax = 15, method = \"backward\")\n",
       "14 Variables  (and intercept)\n",
       "              Forced in Forced out\n",
       "Sample            FALSE      FALSE\n",
       "week              FALSE      FALSE\n",
       "angle1            FALSE      FALSE\n",
       "angle2            FALSE      FALSE\n",
       "exposure          FALSE      FALSE\n",
       "salinity          FALSE      FALSE\n",
       "temperature       FALSE      FALSE\n",
       "NAP               FALSE      FALSE\n",
       "penetrability     FALSE      FALSE\n",
       "grainsize         FALSE      FALSE\n",
       "humus             FALSE      FALSE\n",
       "chalk             FALSE      FALSE\n",
       "sorting1          FALSE      FALSE\n",
       "Beach             FALSE      FALSE\n",
       "1 subsets of each size up to 14\n",
       "Selection Algorithm: backward\n",
       "          Sample week angle1 angle2 exposure salinity temperature NAP\n",
       "1  ( 1 )  \" \"    \" \"  \" \"    \" \"    \" \"      \" \"      \" \"         \"*\"\n",
       "2  ( 1 )  \" \"    \" \"  \" \"    \" \"    \" \"      \" \"      \"*\"         \"*\"\n",
       "3  ( 1 )  \"*\"    \" \"  \" \"    \" \"    \" \"      \" \"      \"*\"         \"*\"\n",
       "4  ( 1 )  \"*\"    \" \"  \" \"    \" \"    \" \"      \" \"      \"*\"         \"*\"\n",
       "5  ( 1 )  \"*\"    \" \"  \" \"    \" \"    \" \"      \" \"      \"*\"         \"*\"\n",
       "6  ( 1 )  \"*\"    \" \"  \" \"    \"*\"    \" \"      \" \"      \"*\"         \"*\"\n",
       "7  ( 1 )  \"*\"    \"*\"  \" \"    \"*\"    \" \"      \" \"      \"*\"         \"*\"\n",
       "8  ( 1 )  \"*\"    \"*\"  \" \"    \"*\"    \" \"      \" \"      \"*\"         \"*\"\n",
       "9  ( 1 )  \"*\"    \"*\"  \"*\"    \"*\"    \" \"      \" \"      \"*\"         \"*\"\n",
       "10  ( 1 ) \"*\"    \"*\"  \"*\"    \"*\"    \"*\"      \" \"      \"*\"         \"*\"\n",
       "11  ( 1 ) \"*\"    \"*\"  \"*\"    \"*\"    \"*\"      \" \"      \"*\"         \"*\"\n",
       "12  ( 1 ) \"*\"    \"*\"  \"*\"    \"*\"    \"*\"      \" \"      \"*\"         \"*\"\n",
       "13  ( 1 ) \"*\"    \"*\"  \"*\"    \"*\"    \"*\"      \" \"      \"*\"         \"*\"\n",
       "14  ( 1 ) \"*\"    \"*\"  \"*\"    \"*\"    \"*\"      \"*\"      \"*\"         \"*\"\n",
       "          penetrability grainsize humus chalk sorting1 Beach\n",
       "1  ( 1 )  \" \"           \" \"       \" \"   \" \"   \" \"      \" \"  \n",
       "2  ( 1 )  \" \"           \" \"       \" \"   \" \"   \" \"      \" \"  \n",
       "3  ( 1 )  \" \"           \" \"       \" \"   \" \"   \" \"      \" \"  \n",
       "4  ( 1 )  \" \"           \" \"       \" \"   \"*\"   \" \"      \" \"  \n",
       "5  ( 1 )  \"*\"           \" \"       \" \"   \"*\"   \" \"      \" \"  \n",
       "6  ( 1 )  \"*\"           \" \"       \" \"   \"*\"   \" \"      \" \"  \n",
       "7  ( 1 )  \"*\"           \" \"       \" \"   \"*\"   \" \"      \" \"  \n",
       "8  ( 1 )  \"*\"           \"*\"       \" \"   \"*\"   \" \"      \" \"  \n",
       "9  ( 1 )  \"*\"           \"*\"       \" \"   \"*\"   \" \"      \" \"  \n",
       "10  ( 1 ) \"*\"           \"*\"       \" \"   \"*\"   \" \"      \" \"  \n",
       "11  ( 1 ) \"*\"           \"*\"       \"*\"   \"*\"   \" \"      \" \"  \n",
       "12  ( 1 ) \"*\"           \"*\"       \"*\"   \"*\"   \"*\"      \" \"  \n",
       "13  ( 1 ) \"*\"           \"*\"       \"*\"   \"*\"   \"*\"      \"*\"  \n",
       "14  ( 1 ) \"*\"           \"*\"       \"*\"   \"*\"   \"*\"      \"*\"  "
      ]
     },
     "metadata": {},
     "output_type": "display_data"
    }
   ],
   "source": [
    "# No we use the foward and backward stepwise functions to determine best model\n",
    "# first we look at the forward step model\n",
    "regfit.fwd <- regsubsets(richness ∼ ., data = survey_data_richness, nvmax = 15, method = \"forward\")\n",
    "summary (regfit.fwd)\n",
    "\n",
    "# Next, we look at the backward step model\n",
    "regfit.bwd <- regsubsets(richness ∼., data = survey_data_richness, nvmax = 15, method = \"backward\")\n",
    "summary (regfit.bwd)"
   ]
  },
  {
   "cell_type": "code",
   "execution_count": 52,
   "id": "cc0f178e",
   "metadata": {},
   "outputs": [
    {
     "data": {
      "text/html": [
       "<dl class=dl-horizontal>\n",
       "\t<dt>(Intercept)</dt>\n",
       "\t\t<dd>-18.1118883607702</dd>\n",
       "\t<dt>Sample</dt>\n",
       "\t\t<dd>-0.108049842616206</dd>\n",
       "\t<dt>angle1</dt>\n",
       "\t\t<dd>-0.0119254006935688</dd>\n",
       "\t<dt>angle2</dt>\n",
       "\t\t<dd>0.0309785651120481</dd>\n",
       "\t<dt>temperature</dt>\n",
       "\t\t<dd>1.58848110916286</dd>\n",
       "\t<dt>NAP</dt>\n",
       "\t\t<dd>-2.99996628672461</dd>\n",
       "\t<dt>penetrability</dt>\n",
       "\t\t<dd>-0.00897968428492762</dd>\n",
       "\t<dt>chalk</dt>\n",
       "\t\t<dd>-0.136366239752946</dd>\n",
       "</dl>\n"
      ],
      "text/latex": [
       "\\begin{description*}\n",
       "\\item[(Intercept)] -18.1118883607702\n",
       "\\item[Sample] -0.108049842616206\n",
       "\\item[angle1] -0.0119254006935688\n",
       "\\item[angle2] 0.0309785651120481\n",
       "\\item[temperature] 1.58848110916286\n",
       "\\item[NAP] -2.99996628672461\n",
       "\\item[penetrability] -0.00897968428492762\n",
       "\\item[chalk] -0.136366239752946\n",
       "\\end{description*}\n"
      ],
      "text/markdown": [
       "(Intercept)\n",
       ":   -18.1118883607702Sample\n",
       ":   -0.108049842616206angle1\n",
       ":   -0.0119254006935688angle2\n",
       ":   0.0309785651120481temperature\n",
       ":   1.58848110916286NAP\n",
       ":   -2.99996628672461penetrability\n",
       ":   -0.00897968428492762chalk\n",
       ":   -0.136366239752946\n",
       "\n"
      ],
      "text/plain": [
       "  (Intercept)        Sample        angle1        angle2   temperature \n",
       "-18.111888361  -0.108049843  -0.011925401   0.030978565   1.588481109 \n",
       "          NAP penetrability         chalk \n",
       " -2.999966287  -0.008979684  -0.136366240 "
      ]
     },
     "metadata": {},
     "output_type": "display_data"
    }
   ],
   "source": [
    "# here we look for the best fit model in the full scope of the variables\n",
    "coef (regfit.full , 7)"
   ]
  },
  {
   "cell_type": "code",
   "execution_count": 53,
   "id": "b0705947",
   "metadata": {},
   "outputs": [
    {
     "data": {
      "text/html": [
       "<dl class=dl-horizontal>\n",
       "\t<dt>(Intercept)</dt>\n",
       "\t\t<dd>-5.45505593824937</dd>\n",
       "\t<dt>angle1</dt>\n",
       "\t\t<dd>-0.00584490042773324</dd>\n",
       "\t<dt>angle2</dt>\n",
       "\t\t<dd>0.0209318959068749</dd>\n",
       "\t<dt>exposure</dt>\n",
       "\t\t<dd>-2.12571830535785</dd>\n",
       "\t<dt>salinity</dt>\n",
       "\t\t<dd>1.12201216232685</dd>\n",
       "\t<dt>NAP</dt>\n",
       "\t\t<dd>-2.62050959479512</dd>\n",
       "\t<dt>chalk</dt>\n",
       "\t\t<dd>-0.103440482710957</dd>\n",
       "\t<dt>sorting1</dt>\n",
       "\t\t<dd>0.0221243631801549</dd>\n",
       "</dl>\n"
      ],
      "text/latex": [
       "\\begin{description*}\n",
       "\\item[(Intercept)] -5.45505593824937\n",
       "\\item[angle1] -0.00584490042773324\n",
       "\\item[angle2] 0.0209318959068749\n",
       "\\item[exposure] -2.12571830535785\n",
       "\\item[salinity] 1.12201216232685\n",
       "\\item[NAP] -2.62050959479512\n",
       "\\item[chalk] -0.103440482710957\n",
       "\\item[sorting1] 0.0221243631801549\n",
       "\\end{description*}\n"
      ],
      "text/markdown": [
       "(Intercept)\n",
       ":   -5.45505593824937angle1\n",
       ":   -0.00584490042773324angle2\n",
       ":   0.0209318959068749exposure\n",
       ":   -2.12571830535785salinity\n",
       ":   1.12201216232685NAP\n",
       ":   -2.62050959479512chalk\n",
       ":   -0.103440482710957sorting1\n",
       ":   0.0221243631801549\n",
       "\n"
      ],
      "text/plain": [
       "(Intercept)      angle1      angle2    exposure    salinity         NAP \n",
       "-5.45505594 -0.00584490  0.02093190 -2.12571831  1.12201216 -2.62050959 \n",
       "      chalk    sorting1 \n",
       "-0.10344048  0.02212436 "
      ]
     },
     "metadata": {},
     "output_type": "display_data"
    }
   ],
   "source": [
    "# here we look for the best fit model using the forward stepwise selection on the variable\n",
    "coef (regfit.fwd , 7)"
   ]
  },
  {
   "cell_type": "code",
   "execution_count": 55,
   "id": "237c4ba7",
   "metadata": {},
   "outputs": [
    {
     "data": {
      "text/html": [
       "<dl class=dl-horizontal>\n",
       "\t<dt>(Intercept)</dt>\n",
       "\t\t<dd>-18.7264572469916</dd>\n",
       "\t<dt>Sample</dt>\n",
       "\t\t<dd>-0.16572626861799</dd>\n",
       "\t<dt>week</dt>\n",
       "\t\t<dd>1.07699801125511</dd>\n",
       "\t<dt>angle2</dt>\n",
       "\t\t<dd>0.0425763583842351</dd>\n",
       "\t<dt>temperature</dt>\n",
       "\t\t<dd>1.44806856904035</dd>\n",
       "\t<dt>NAP</dt>\n",
       "\t\t<dd>-2.89377750382585</dd>\n",
       "\t<dt>penetrability</dt>\n",
       "\t\t<dd>-0.00717423712327295</dd>\n",
       "\t<dt>chalk</dt>\n",
       "\t\t<dd>-0.10686977495491</dd>\n",
       "</dl>\n"
      ],
      "text/latex": [
       "\\begin{description*}\n",
       "\\item[(Intercept)] -18.7264572469916\n",
       "\\item[Sample] -0.16572626861799\n",
       "\\item[week] 1.07699801125511\n",
       "\\item[angle2] 0.0425763583842351\n",
       "\\item[temperature] 1.44806856904035\n",
       "\\item[NAP] -2.89377750382585\n",
       "\\item[penetrability] -0.00717423712327295\n",
       "\\item[chalk] -0.10686977495491\n",
       "\\end{description*}\n"
      ],
      "text/markdown": [
       "(Intercept)\n",
       ":   -18.7264572469916Sample\n",
       ":   -0.16572626861799week\n",
       ":   1.07699801125511angle2\n",
       ":   0.0425763583842351temperature\n",
       ":   1.44806856904035NAP\n",
       ":   -2.89377750382585penetrability\n",
       ":   -0.00717423712327295chalk\n",
       ":   -0.10686977495491\n",
       "\n"
      ],
      "text/plain": [
       "  (Intercept)        Sample          week        angle2   temperature \n",
       "-18.726457247  -0.165726269   1.076998011   0.042576358   1.448068569 \n",
       "          NAP penetrability         chalk \n",
       " -2.893777504  -0.007174237  -0.106869775 "
      ]
     },
     "metadata": {},
     "output_type": "display_data"
    }
   ],
   "source": [
    "# here we look for the best fit model using the backward stepwise selection on the variable\n",
    "coef (regfit.bwd , 7)"
   ]
  },
  {
   "cell_type": "markdown",
   "id": "f3b9b01a",
   "metadata": {},
   "source": [
    "### Choosing Among Models Using the Validation-Set Approach and Cross-Validation"
   ]
  },
  {
   "cell_type": "code",
   "execution_count": 135,
   "id": "d05459a9",
   "metadata": {},
   "outputs": [],
   "source": [
    "# Using the validation set approach, be begin by splitting the observations into a training set and a test set.\n",
    "set.seed (1)\n",
    "train <- sample (c(TRUE , FALSE), nrow (survey_data_richness), replace = TRUE)\n",
    "test <- (!train)"
   ]
  },
  {
   "cell_type": "code",
   "execution_count": 136,
   "id": "331a0893",
   "metadata": {},
   "outputs": [],
   "source": [
    "# here we perform the best subset selection on the training set\n",
    "regfit.best <- regsubsets(richness ∼ ., data = survey_data_richness[train , ], nvmax = 15)"
   ]
  },
  {
   "cell_type": "code",
   "execution_count": 137,
   "id": "f7b83ace",
   "metadata": {},
   "outputs": [],
   "source": [
    "# here we perform the best subset selection on the test set\n",
    "test.mat <- model.matrix (richness ∼ ., data = survey_data_richness[test , ])"
   ]
  },
  {
   "cell_type": "code",
   "execution_count": 147,
   "id": "f929b791",
   "metadata": {},
   "outputs": [],
   "source": [
    "# using a loop to test the model matrix to form predictions and compute the test MSE\n",
    "val.errors <- rep(NA,14)\n",
    "for (i in 1:14){\n",
    "    coefi <- coef(regfit.best, id = i)\n",
    "    pred <- test.mat[ , names(coefi)] %*% coefi\n",
    "    val.errors[i] <- mean((survey_data_richness$richness[test]-pred^2))\n",
    "}\n"
   ]
  },
  {
   "cell_type": "code",
   "execution_count": 148,
   "id": "fb07277b",
   "metadata": {},
   "outputs": [
    {
     "data": {
      "text/html": [
       "<ol class=list-inline>\n",
       "\t<li>-20.0294930730374</li>\n",
       "\t<li>-27.1606556853326</li>\n",
       "\t<li>-34.2436827672649</li>\n",
       "\t<li>-45.4206973227985</li>\n",
       "\t<li>-51.3692808776051</li>\n",
       "\t<li>-52.4209082629409</li>\n",
       "\t<li>-54.82379383218</li>\n",
       "\t<li>-59.6319614863247</li>\n",
       "\t<li>-53.6299255403733</li>\n",
       "\t<li>-55.3408435007003</li>\n",
       "\t<li>-58.0259385750772</li>\n",
       "\t<li>-57.5056417899475</li>\n",
       "\t<li>-56.543556931418</li>\n",
       "\t<li>-56.7084737253261</li>\n",
       "</ol>\n"
      ],
      "text/latex": [
       "\\begin{enumerate*}\n",
       "\\item -20.0294930730374\n",
       "\\item -27.1606556853326\n",
       "\\item -34.2436827672649\n",
       "\\item -45.4206973227985\n",
       "\\item -51.3692808776051\n",
       "\\item -52.4209082629409\n",
       "\\item -54.82379383218\n",
       "\\item -59.6319614863247\n",
       "\\item -53.6299255403733\n",
       "\\item -55.3408435007003\n",
       "\\item -58.0259385750772\n",
       "\\item -57.5056417899475\n",
       "\\item -56.543556931418\n",
       "\\item -56.7084737253261\n",
       "\\end{enumerate*}\n"
      ],
      "text/markdown": [
       "1. -20.0294930730374\n",
       "2. -27.1606556853326\n",
       "3. -34.2436827672649\n",
       "4. -45.4206973227985\n",
       "5. -51.3692808776051\n",
       "6. -52.4209082629409\n",
       "7. -54.82379383218\n",
       "8. -59.6319614863247\n",
       "9. -53.6299255403733\n",
       "10. -55.3408435007003\n",
       "11. -58.0259385750772\n",
       "12. -57.5056417899475\n",
       "13. -56.543556931418\n",
       "14. -56.7084737253261\n",
       "\n",
       "\n"
      ],
      "text/plain": [
       " [1] -20.02949 -27.16066 -34.24368 -45.42070 -51.36928 -52.42091 -54.82379\n",
       " [8] -59.63196 -53.62993 -55.34084 -58.02594 -57.50564 -56.54356 -56.70847"
      ]
     },
     "metadata": {},
     "output_type": "display_data"
    }
   ],
   "source": [
    "val.errors"
   ]
  },
  {
   "cell_type": "code",
   "execution_count": 149,
   "id": "9853cf30",
   "metadata": {},
   "outputs": [
    {
     "data": {
      "text/html": [
       "8"
      ],
      "text/latex": [
       "8"
      ],
      "text/markdown": [
       "8"
      ],
      "text/plain": [
       "[1] 8"
      ]
     },
     "metadata": {},
     "output_type": "display_data"
    }
   ],
   "source": [
    "# find that the best models will contain 8 variables\n",
    "which.min(val.errors)"
   ]
  },
  {
   "cell_type": "code",
   "execution_count": 151,
   "id": "3cd9d719",
   "metadata": {},
   "outputs": [
    {
     "data": {
      "text/html": [
       "<dl class=dl-horizontal>\n",
       "\t<dt>(Intercept)</dt>\n",
       "\t\t<dd>-86.1526934695414</dd>\n",
       "\t<dt>Sample</dt>\n",
       "\t\t<dd>-0.841340498293242</dd>\n",
       "\t<dt>exposure</dt>\n",
       "\t\t<dd>8.48903872968736</dd>\n",
       "\t<dt>salinity</dt>\n",
       "\t\t<dd>-3.55443157736758</dd>\n",
       "\t<dt>temperature</dt>\n",
       "\t\t<dd>6.83451975484962</dd>\n",
       "\t<dt>NAP</dt>\n",
       "\t\t<dd>-3.55207719275645</dd>\n",
       "\t<dt>grainsize</dt>\n",
       "\t\t<dd>-0.0366654014602459</dd>\n",
       "\t<dt>chalk</dt>\n",
       "\t\t<dd>-0.661228315007463</dd>\n",
       "\t<dt>sorting1</dt>\n",
       "\t\t<dd>0.130612915975619</dd>\n",
       "</dl>\n"
      ],
      "text/latex": [
       "\\begin{description*}\n",
       "\\item[(Intercept)] -86.1526934695414\n",
       "\\item[Sample] -0.841340498293242\n",
       "\\item[exposure] 8.48903872968736\n",
       "\\item[salinity] -3.55443157736758\n",
       "\\item[temperature] 6.83451975484962\n",
       "\\item[NAP] -3.55207719275645\n",
       "\\item[grainsize] -0.0366654014602459\n",
       "\\item[chalk] -0.661228315007463\n",
       "\\item[sorting1] 0.130612915975619\n",
       "\\end{description*}\n"
      ],
      "text/markdown": [
       "(Intercept)\n",
       ":   -86.1526934695414Sample\n",
       ":   -0.841340498293242exposure\n",
       ":   8.48903872968736salinity\n",
       ":   -3.55443157736758temperature\n",
       ":   6.83451975484962NAP\n",
       ":   -3.55207719275645grainsize\n",
       ":   -0.0366654014602459chalk\n",
       ":   -0.661228315007463sorting1\n",
       ":   0.130612915975619\n",
       "\n"
      ],
      "text/plain": [
       "(Intercept)      Sample    exposure    salinity temperature         NAP \n",
       "-86.1526935  -0.8413405   8.4890387  -3.5544316   6.8345198  -3.5520772 \n",
       "  grainsize       chalk    sorting1 \n",
       " -0.0366654  -0.6612283   0.1306129 "
      ]
     },
     "metadata": {},
     "output_type": "display_data"
    }
   ],
   "source": [
    "coef(regfit.best , 8)"
   ]
  },
  {
   "cell_type": "code",
   "execution_count": 172,
   "id": "c49b14f0",
   "metadata": {},
   "outputs": [],
   "source": [
    "# here we write our own predictive method using the steps above\n",
    "predict.regsubsets <- function (object , newdata , id, ...) {\n",
    "    form <- as.formula (object$call[[2]])\n",
    "    mat <- model.matrix (form , newdata)\n",
    "    coefi <- coef (object , id = id)\n",
    "    xvars <- names (coefi)\n",
    "    mat[, xvars] %*% coefi\n",
    "}"
   ]
  },
  {
   "cell_type": "code",
   "execution_count": 173,
   "id": "3dbc7837",
   "metadata": {},
   "outputs": [
    {
     "data": {
      "text/html": [
       "<dl class=dl-horizontal>\n",
       "\t<dt>(Intercept)</dt>\n",
       "\t\t<dd>-21.8732605921119</dd>\n",
       "\t<dt>Sample</dt>\n",
       "\t\t<dd>-0.139209190710732</dd>\n",
       "\t<dt>angle1</dt>\n",
       "\t\t<dd>-0.00992840090819684</dd>\n",
       "\t<dt>angle2</dt>\n",
       "\t\t<dd>0.0345244034676251</dd>\n",
       "\t<dt>temperature</dt>\n",
       "\t\t<dd>1.67049119667916</dd>\n",
       "\t<dt>NAP</dt>\n",
       "\t\t<dd>-2.95636117019365</dd>\n",
       "\t<dt>penetrability</dt>\n",
       "\t\t<dd>-0.0065938606223151</dd>\n",
       "\t<dt>chalk</dt>\n",
       "\t\t<dd>-0.198583691769229</dd>\n",
       "\t<dt>sorting1</dt>\n",
       "\t\t<dd>0.0247650883980247</dd>\n",
       "</dl>\n"
      ],
      "text/latex": [
       "\\begin{description*}\n",
       "\\item[(Intercept)] -21.8732605921119\n",
       "\\item[Sample] -0.139209190710732\n",
       "\\item[angle1] -0.00992840090819684\n",
       "\\item[angle2] 0.0345244034676251\n",
       "\\item[temperature] 1.67049119667916\n",
       "\\item[NAP] -2.95636117019365\n",
       "\\item[penetrability] -0.0065938606223151\n",
       "\\item[chalk] -0.198583691769229\n",
       "\\item[sorting1] 0.0247650883980247\n",
       "\\end{description*}\n"
      ],
      "text/markdown": [
       "(Intercept)\n",
       ":   -21.8732605921119Sample\n",
       ":   -0.139209190710732angle1\n",
       ":   -0.00992840090819684angle2\n",
       ":   0.0345244034676251temperature\n",
       ":   1.67049119667916NAP\n",
       ":   -2.95636117019365penetrability\n",
       ":   -0.0065938606223151chalk\n",
       ":   -0.198583691769229sorting1\n",
       ":   0.0247650883980247\n",
       "\n"
      ],
      "text/plain": [
       "  (Intercept)        Sample        angle1        angle2   temperature \n",
       "-21.873260592  -0.139209191  -0.009928401   0.034524403   1.670491197 \n",
       "          NAP penetrability         chalk      sorting1 \n",
       " -2.956361170  -0.006593861  -0.198583692   0.024765088 "
      ]
     },
     "metadata": {},
     "output_type": "display_data"
    }
   ],
   "source": [
    "# we find that the models based on the training and test values give us different sets of variables for the best model\n",
    "\\regfit.best <- regsubsets (richness ∼ ., data = survey_data_richness, nvmax = 15)\n",
    "coef (regfit.best , 8)"
   ]
  },
  {
   "cell_type": "code",
   "execution_count": 174,
   "id": "f058e297",
   "metadata": {},
   "outputs": [],
   "source": [
    "# here we try to choose models of different sizes using the cross-validation method\n",
    "k <- 10\n",
    "n <- nrow (survey_data_richness)\n",
    "set.seed (1)\n",
    "folds <- sample ( rep (1:k, length = n))\n",
    "cv.errors <- matrix (NA, k, 15, dimnames = list(NULL , paste (1:15)))"
   ]
  },
  {
   "cell_type": "code",
   "execution_count": 176,
   "id": "c697e0b9",
   "metadata": {},
   "outputs": [],
   "source": [
    "# This is the loop that will perfom the cross-validation\n",
    "for (j in 1:k) {\n",
    "    best.fit <- regsubsets(richness ∼ ., \n",
    "    data = survey_data_richness[folds != j, ], \n",
    "    nvmax = 14)\n",
    "    \n",
    "    for (i in 1:14) {\n",
    "        pred <- predict(best.fit , survey_data_richness[folds == j, ], id = i)\n",
    "        cv.errors[j, i] <-\n",
    "            mean ((survey_data_richness$richness[folds == j] - pred)^2)\n",
    "    }\n",
    "}"
   ]
  },
  {
   "cell_type": "code",
   "execution_count": 177,
   "id": "e3dd7dd6",
   "metadata": {},
   "outputs": [
    {
     "data": {
      "text/html": [
       "<dl class=dl-horizontal>\n",
       "\t<dt>1</dt>\n",
       "\t\t<dd>21.1944186568233</dd>\n",
       "\t<dt>2</dt>\n",
       "\t\t<dd>9.35690385168869</dd>\n",
       "\t<dt>3</dt>\n",
       "\t\t<dd>9.98757461619131</dd>\n",
       "\t<dt>4</dt>\n",
       "\t\t<dd>10.5140827928748</dd>\n",
       "\t<dt>5</dt>\n",
       "\t\t<dd>11.7575399781744</dd>\n",
       "\t<dt>6</dt>\n",
       "\t\t<dd>11.4599498272485</dd>\n",
       "\t<dt>7</dt>\n",
       "\t\t<dd>12.003333665808</dd>\n",
       "\t<dt>8</dt>\n",
       "\t\t<dd>11.0476396281563</dd>\n",
       "\t<dt>9</dt>\n",
       "\t\t<dd>10.2152315967551</dd>\n",
       "\t<dt>10</dt>\n",
       "\t\t<dd>10.4546096934693</dd>\n",
       "\t<dt>11</dt>\n",
       "\t\t<dd>10.9766153101814</dd>\n",
       "\t<dt>12</dt>\n",
       "\t\t<dd>11.2912668519671</dd>\n",
       "\t<dt>13</dt>\n",
       "\t\t<dd>11.3788947161383</dd>\n",
       "\t<dt>14</dt>\n",
       "\t\t<dd>11.3818666031268</dd>\n",
       "\t<dt>15</dt>\n",
       "\t\t<dd>&lt;NA&gt;</dd>\n",
       "</dl>\n"
      ],
      "text/latex": [
       "\\begin{description*}\n",
       "\\item[1] 21.1944186568233\n",
       "\\item[2] 9.35690385168869\n",
       "\\item[3] 9.98757461619131\n",
       "\\item[4] 10.5140827928748\n",
       "\\item[5] 11.7575399781744\n",
       "\\item[6] 11.4599498272485\n",
       "\\item[7] 12.003333665808\n",
       "\\item[8] 11.0476396281563\n",
       "\\item[9] 10.2152315967551\n",
       "\\item[10] 10.4546096934693\n",
       "\\item[11] 10.9766153101814\n",
       "\\item[12] 11.2912668519671\n",
       "\\item[13] 11.3788947161383\n",
       "\\item[14] 11.3818666031268\n",
       "\\item[15] <NA>\n",
       "\\end{description*}\n"
      ],
      "text/markdown": [
       "1\n",
       ":   21.19441865682332\n",
       ":   9.356903851688693\n",
       ":   9.987574616191314\n",
       ":   10.51408279287485\n",
       ":   11.75753997817446\n",
       ":   11.45994982724857\n",
       ":   12.0033336658088\n",
       ":   11.04763962815639\n",
       ":   10.215231596755110\n",
       ":   10.454609693469311\n",
       ":   10.976615310181412\n",
       ":   11.291266851967113\n",
       ":   11.378894716138314\n",
       ":   11.381866603126815\n",
       ":   &lt;NA&gt;\n",
       "\n"
      ],
      "text/plain": [
       "        1         2         3         4         5         6         7         8 \n",
       "21.194419  9.356904  9.987575 10.514083 11.757540 11.459950 12.003334 11.047640 \n",
       "        9        10        11        12        13        14        15 \n",
       "10.215232 10.454610 10.976615 11.291267 11.378895 11.381867        NA "
      ]
     },
     "metadata": {},
     "output_type": "display_data"
    }
   ],
   "source": [
    "# now we get the average over columns of the matrix obtained using our loop function in order to obtain the error of our cross-validation model\n",
    "mean.cv.errors <- apply (cv.errors , 2, mean)\n",
    "mean.cv.errors"
   ]
  },
  {
   "cell_type": "code",
   "execution_count": 178,
   "id": "9bb43959",
   "metadata": {},
   "outputs": [
    {
     "data": {
      "image/png": "[encoded data removed]",
      "text/plain": [
       "plot without title"
      ]
     },
     "metadata": {},
     "output_type": "display_data"
    }
   ],
   "source": [
    "# found that the least error is found around 10 variables or less\n",
    "par (mfrow = c(1, 1))\n",
    "plot (mean.cv.errors , type = \"b\")"
   ]
  },
  {
   "cell_type": "code",
   "execution_count": 185,
   "id": "15184956",
   "metadata": {},
   "outputs": [
    {
     "data": {
      "text/html": [
       "<dl class=dl-horizontal>\n",
       "\t<dt>(Intercept)</dt>\n",
       "\t\t<dd>-22.4092594046464</dd>\n",
       "\t<dt>Sample</dt>\n",
       "\t\t<dd>-0.180134820300772</dd>\n",
       "\t<dt>week</dt>\n",
       "\t\t<dd>1.36027800184778</dd>\n",
       "\t<dt>angle1</dt>\n",
       "\t\t<dd>-0.00954100487034149</dd>\n",
       "\t<dt>angle2</dt>\n",
       "\t\t<dd>0.0742967820365586</dd>\n",
       "\t<dt>exposure</dt>\n",
       "\t\t<dd>-0.322800268376048</dd>\n",
       "\t<dt>temperature</dt>\n",
       "\t\t<dd>1.52125989490294</dd>\n",
       "\t<dt>NAP</dt>\n",
       "\t\t<dd>-2.74584447189078</dd>\n",
       "\t<dt>penetrability</dt>\n",
       "\t\t<dd>-0.00875101773486328</dd>\n",
       "\t<dt>grainsize</dt>\n",
       "\t\t<dd>0.0161013498460424</dd>\n",
       "\t<dt>chalk</dt>\n",
       "\t\t<dd>-0.11389139759342</dd>\n",
       "</dl>\n"
      ],
      "text/latex": [
       "\\begin{description*}\n",
       "\\item[(Intercept)] -22.4092594046464\n",
       "\\item[Sample] -0.180134820300772\n",
       "\\item[week] 1.36027800184778\n",
       "\\item[angle1] -0.00954100487034149\n",
       "\\item[angle2] 0.0742967820365586\n",
       "\\item[exposure] -0.322800268376048\n",
       "\\item[temperature] 1.52125989490294\n",
       "\\item[NAP] -2.74584447189078\n",
       "\\item[penetrability] -0.00875101773486328\n",
       "\\item[grainsize] 0.0161013498460424\n",
       "\\item[chalk] -0.11389139759342\n",
       "\\end{description*}\n"
      ],
      "text/markdown": [
       "(Intercept)\n",
       ":   -22.4092594046464Sample\n",
       ":   -0.180134820300772week\n",
       ":   1.36027800184778angle1\n",
       ":   -0.00954100487034149angle2\n",
       ":   0.0742967820365586exposure\n",
       ":   -0.322800268376048temperature\n",
       ":   1.52125989490294NAP\n",
       ":   -2.74584447189078penetrability\n",
       ":   -0.00875101773486328grainsize\n",
       ":   0.0161013498460424chalk\n",
       ":   -0.11389139759342\n",
       "\n"
      ],
      "text/plain": [
       "  (Intercept)        Sample          week        angle1        angle2 \n",
       "-22.409259405  -0.180134820   1.360278002  -0.009541005   0.074296782 \n",
       "     exposure   temperature           NAP penetrability     grainsize \n",
       " -0.322800268   1.521259895  -2.745844472  -0.008751018   0.016101350 \n",
       "        chalk \n",
       " -0.113891398 "
      ]
     },
     "metadata": {},
     "output_type": "display_data"
    }
   ],
   "source": [
    "reg.best <- regsubsets (richness ∼ ., data = survey_data_richness,\n",
    "nvmax = 14)\n",
    "coef (reg.best , 10)"
   ]
  }
 ],
 "metadata": {
  "kernelspec": {
   "display_name": "R",
   "language": "R",
   "name": "ir"
  },
  "language_info": {
   "codemirror_mode": "r",
   "file_extension": ".r",
   "mimetype": "text/x-r-source",
   "name": "R",
   "pygments_lexer": "r",
   "version": "3.6.1"
  }
 },
 "nbformat": 4,
 "nbformat_minor": 5
}
